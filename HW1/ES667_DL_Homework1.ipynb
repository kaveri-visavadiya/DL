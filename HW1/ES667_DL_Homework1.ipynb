{
  "nbformat": 4,
  "nbformat_minor": 0,
  "metadata": {
    "colab": {
      "provenance": []
    },
    "kernelspec": {
      "name": "python3",
      "display_name": "Python 3"
    },
    "language_info": {
      "name": "python"
    }
  },
  "cells": [
    {
      "cell_type": "markdown",
      "source": [
        "## 1. Implement a feedforward neural network and write the backpropagation code for training the network from scratch. Use numpy for all matrix/vector operations. You are not allowed to use any automatic differentiation packages. This network will be trained and tested using the Fashion-MNIST dataset. Specifically, given an input image (28 x 28 = 784 pixels) from the Fashion-MNIST dataset, the network will be trained to classify the image into 1 of 10 classes."
      ],
      "metadata": {
        "id": "aAsXmQYuekPy"
      }
    },
    {
      "cell_type": "markdown",
      "source": [
        "a) Download the fashion-MNIST dataset and plot 1 sample image for each class in a grid."
      ],
      "metadata": {
        "id": "RmQ9OM--ew6P"
      }
    },
    {
      "cell_type": "code",
      "execution_count": null,
      "metadata": {
        "id": "iQoRa3dqefOc"
      },
      "outputs": [],
      "source": [
        "!pip install torchvision --q\n",
        "!pip install transforms --q\n",
        "!pip install sgmllib3k --q"
      ]
    },
    {
      "cell_type": "code",
      "source": [
        "import torchvision\n",
        "from torchvision import transforms\n",
        "from torch.utils.data import DataLoader\n",
        "import numpy as np\n",
        "import matplotlib.pyplot as plt\n",
        "import heapq\n",
        "%matplotlib inline"
      ],
      "metadata": {
        "id": "aLWyVCste5QD"
      },
      "execution_count": null,
      "outputs": []
    },
    {
      "cell_type": "code",
      "source": [
        "train_set = torchvision.datasets.FashionMNIST(\"./data\", download=True, transform=transforms.Compose([transforms.ToTensor()]))\n",
        "test_set = torchvision.datasets.FashionMNIST(\"./data\", download=True, train=False, transform=transforms.Compose([transforms.ToTensor()]))"
      ],
      "metadata": {
        "id": "Iu8G7yK9fyQ0"
      },
      "execution_count": null,
      "outputs": []
    },
    {
      "cell_type": "code",
      "source": [
        "# train/test_set is of type dataset (like a tuple). elements can be accessed as train_set[i], will be of len 2\n",
        "print(type(train_set))\n",
        "print(len(train_set))"
      ],
      "metadata": {
        "colab": {
          "base_uri": "https://localhost:8080/"
        },
        "id": "-_V6HeYKgxWC",
        "outputId": "79a4d9c4-0794-4993-95a8-ac7f49ccfb54"
      },
      "execution_count": null,
      "outputs": [
        {
          "output_type": "stream",
          "name": "stdout",
          "text": [
            "<class 'torchvision.datasets.mnist.FashionMNIST'>\n",
            "60000\n"
          ]
        }
      ]
    },
    {
      "cell_type": "code",
      "source": [
        "# Create data loaders that will load data.\n",
        "# train/test_loader is of type DataLoader that contains features(X) (tensor[N, C(=1), H, W]) and labels(y) (tensor[N])\n",
        "train_loader = DataLoader(train_set, batch_size=len(train_set))\n",
        "test_loader = DataLoader(test_set, batch_size=len(test_set))\n",
        "\n",
        "# dim of train_dataset = (N(batches), C(channels), H, W). element can be accessed as X[i], will be of len (1, 28, 28)\n",
        "train_features = next(iter(train_loader))[0].numpy().squeeze(1)\n",
        "test_features = next(iter(test_loader))[0].numpy().squeeze(1)\n",
        "train_labels = next(iter(train_loader))[1].numpy()\n",
        "test_labels = next(iter(test_loader))[1].numpy()"
      ],
      "metadata": {
        "id": "mD9-A7f7cE5O"
      },
      "execution_count": null,
      "outputs": []
    },
    {
      "cell_type": "code",
      "source": [
        "print(\"Type of dataset:\", type(train_features))\n",
        "print(f\"Shape of features (N, H, W): {train_features.shape}\")\n",
        "print(f\"Shape of labels: {train_labels.shape}\")"
      ],
      "metadata": {
        "colab": {
          "base_uri": "https://localhost:8080/"
        },
        "id": "qjbfe8D7dNjW",
        "outputId": "0081e122-5a68-416d-a517-000159e3997e"
      },
      "execution_count": null,
      "outputs": [
        {
          "output_type": "stream",
          "name": "stdout",
          "text": [
            "Type of dataset: <class 'numpy.ndarray'>\n",
            "Shape of features (N, H, W): (60000, 28, 28)\n",
            "Shape of labels: (60000,)\n"
          ]
        }
      ]
    },
    {
      "cell_type": "code",
      "source": [
        "labels_map = {\n",
        "    0: \"T-Shirt\",\n",
        "    1: \"Trouser\",\n",
        "    2: \"Pullover\",\n",
        "    3: \"Dress\",\n",
        "    4: \"Coat\",\n",
        "    5: \"Sandal\",\n",
        "    6: \"Shirt\",\n",
        "    7: \"Sneaker\",\n",
        "    8: \"Bag\",\n",
        "    9: \"Ankle Boot\",\n",
        "}\n",
        "\n",
        "figure = plt.figure(figsize=(10, 4))\n",
        "rows, cols = 2, 5\n",
        "selected_img = {}\n",
        "\n",
        "for i in range(len(train_labels)):\n",
        "    label = train_labels[i]\n",
        "    if label not in selected_img:\n",
        "      selected_img[label] = i\n",
        "    if len(selected_img) == 10:\n",
        "      break\n",
        "\n",
        "for i, (label, img_id) in enumerate(selected_img.items(), 1):\n",
        "    figure.add_subplot(rows, cols, i)\n",
        "    plt.title(labels_map[label])\n",
        "    plt.axis(\"off\")\n",
        "    plt.imshow(train_features[img_id].squeeze(), cmap=\"gray\")\n",
        "plt.subplots_adjust(hspace=0.3, wspace=0.2)\n",
        "plt.show()"
      ],
      "metadata": {
        "colab": {
          "base_uri": "https://localhost:8080/",
          "height": 367
        },
        "id": "SnNym5WMe7BI",
        "outputId": "13ef77e1-5be1-4aba-9400-f0ac284ef0c5"
      },
      "execution_count": null,
      "outputs": [
        {
          "output_type": "display_data",
          "data": {
            "text/plain": [
              "<Figure size 1000x400 with 10 Axes>"
            ],
            "image/png": "[encoded data removed]"
          },
          "metadata": {}
        }
      ]
    },
    {
      "cell_type": "markdown",
      "source": [
        "b) Implement a feedforward neural network using Numpy which takes images from the fashion-MNIST data as input and outputs a probability distribution over the 10 classes. Use only one hidden layer.\n",
        "\n",
        "c) Implement from scratch the backpropagation algorithm with support for the following optimization functions — sgd, momentum based gradient descent."
      ],
      "metadata": {
        "id": "0q1zn-NhjF85"
      }
    },
    {
      "cell_type": "code",
      "source": [
        "def ReLU(x):\n",
        "    return np.maximum(0, x)"
      ],
      "metadata": {
        "id": "ic8dcMst24SB"
      },
      "execution_count": null,
      "outputs": []
    },
    {
      "cell_type": "code",
      "source": [
        "class OneHiddenLayerNet(object):\n",
        "    \"\"\"\n",
        "    A one-hidden-layer fully-connected neural network. The net has an input dimension of\n",
        "    N, a hidden layer dimension of H, and performs classification over C(10) classes.\n",
        "    We train the network with a softmax loss function and L2 regularization on the\n",
        "    weight matrices. The network uses a ReLU nonlinearity after the first fully\n",
        "    connected layer.\n",
        "\n",
        "    In other words, the network has the following architecture:\n",
        "\n",
        "    input - fully connected layer - ReLU - fully connected layer - softmax\n",
        "\n",
        "    The outputs of the second fully-connected layer are the scores for each class.\n",
        "    \"\"\"\n",
        "\n",
        "    def __init__(self, input_size, hidden_size, output_size, weight_init=\"random\"):\n",
        "        \"\"\"\n",
        "        Initialize the model. Weights and biases are stored in the\n",
        "        variable self.params, which is a dictionary with the following keys:\n",
        "\n",
        "        W1: First layer weights; has shape (D, H)\n",
        "        b1: First layer biases; has shape (H,)\n",
        "        W2: Second layer weights; has shape (H, C)\n",
        "        b2: Second layer biases; has shape (C,)\n",
        "\n",
        "        Inputs:\n",
        "        - input_size: The dimension D of the input data = 28x28.\n",
        "        - hidden_size: The number of neurons H in the hidden layer = 64, 128.\n",
        "        - output_size: The number of classes C = 10.\n",
        "\n",
        "        Weight initialization (weight_init): random or Xavier\n",
        "        - random: Weights are initialized to small random values and biases are initialized to zero.\n",
        "        - Xavier - weight = Uniform [-(1/sqrt(n)), 1/sqrt(n)] where n = no. of inputs to node\n",
        "        \"\"\"\n",
        "        self.params = {}\n",
        "\n",
        "        if weight_init == \"random\":\n",
        "            self.params['W1'] = np.random.randn(input_size, hidden_size) * 0.01\n",
        "            self.params['b1'] = np.zeros((1, hidden_size))\n",
        "            self.params['W2'] = np.random.randn(hidden_size, output_size) * 0.01\n",
        "            self.params['b2'] = np.zeros((1, output_size))\n",
        "\n",
        "        elif weight_init == \"xavier\":\n",
        "            lower, upper = -(1.0 / np.sqrt(input_size)), (1.0 / np.sqrt(input_size))\n",
        "            self.params['W1'] = np.random.uniform(lower, upper, (input_size, hidden_size))\n",
        "            self.params['b1'] = np.zeros((1, hidden_size))\n",
        "            lower, upper = -(1.0 / np.sqrt(hidden_size)), (1.0 / np.sqrt(hidden_size))\n",
        "            self.params['W2'] = np.random.uniform(lower, upper, (hidden_size, output_size))\n",
        "            self.params['b2'] = np.zeros((1, output_size))\n",
        "\n",
        "    def loss(self, X, y=None, reg=0.5):\n",
        "        \"\"\"\n",
        "        Compute the loss and gradients (using backprop) for a one-hidden layer\n",
        "        fully connected neural network.\n",
        "\n",
        "        Inputs:\n",
        "        - X: Input data of shape (N, D). Each X[i] is a training sample.\n",
        "        - y: Vector of training labels. y[i] is the label for X[i], and each y[i] is\n",
        "          an integer in the range 0 <= y[i] < C. This parameter is optional; if it\n",
        "          is not passed then we only return scores, and if it is passed then we\n",
        "          instead return the loss and gradients.\n",
        "        - reg: Regularization strength/weight decay (L2 regularisation).\n",
        "\n",
        "        Returns:\n",
        "        If y is None, return a matrix scores of shape (N, C) where scores[i, c] is\n",
        "        the score for class c on input X[i].\n",
        "\n",
        "        If y is not None, instead return a tuple of:\n",
        "        - loss: Loss (data loss and regularization loss) for this batch of training\n",
        "          samples.\n",
        "        - grads: Dictionary mapping parameter names to gradients of those parameters\n",
        "          with respect to the loss function; has the same keys as self.params.\n",
        "        \"\"\"\n",
        "        # Unpack variables from the params dictionary\n",
        "        W1, b1 = self.params['W1'], self.params['b1']\n",
        "        W2, b2 = self.params['W2'], self.params['b2']\n",
        "        N, D = X.shape\n",
        "\n",
        "        # Compute the forward pass\n",
        "        scores = None\n",
        "        h1 = ReLU(np.dot(X, W1) + b1)  # (N, H)\n",
        "        out = np.dot(h1, W2) + b2      # (N, C)\n",
        "        scores = out\n",
        "\n",
        "        # If the targets are not given then jump out, we're done\n",
        "        if y is None:\n",
        "            return scores\n",
        "\n",
        "        # Computing softmax\n",
        "        scores_max = np.max(scores, axis=1, keepdims=True)    # (N,1). axis = 1 means that since result is along y-axis, collapse/find max along x-axis/each row\n",
        "        exp_scores = np.exp(scores - scores_max)              # (N,C)\n",
        "        probs = exp_scores / np.sum(exp_scores, axis=1, keepdims=True)    # (N,C)\n",
        "\n",
        "        # Compute the loss\n",
        "        correct_logprobs = -np.log(probs[range(N), y])        # (N,1), for all rows, select that row's prob for target y and compute negative log likelihood\n",
        "        data_loss = np.sum(correct_logprobs) / N\n",
        "        reg_loss = 0.5 * reg * np.sum(W1*W1) + 0.5 * reg * np.sum(W2*W2)\n",
        "        loss = data_loss + reg_loss\n",
        "\n",
        "        # Backward pass: compute gradients understand later\n",
        "        grads = {}\n",
        "        dscores = probs                                 # (N,C)\n",
        "        dscores[range(N), y] -= 1\n",
        "        dscores /= N\n",
        "        dW2 = np.dot(h1.T, dscores)                     # (H,C)\n",
        "        db2 = np.sum(dscores, axis=0, keepdims=True)    # (1,C)\n",
        "        dh1 = np.dot(dscores, W2.T)                     # (N,H)\n",
        "        dh1[h1 <= 0] = 0\n",
        "        dW1 = np.dot(X.T, dh1)                          # (D,H)\n",
        "        db1 = np.sum(dh1, axis=0, keepdims=True)        # (1,H)\n",
        "        dW2 += reg * W2\n",
        "        dW1 += reg * W1\n",
        "\n",
        "        grads['W1'] = dW1\n",
        "        grads['b1'] = db1\n",
        "        grads['W2'] = dW2\n",
        "        grads['b2'] = db2\n",
        "\n",
        "        return loss, grads\n",
        "\n",
        "    def train(self, X, y, X_val, y_val, learning_rate=1e-4, num_epochs=10, batch_size=64,\n",
        "              optimizer=\"sgd\", reg=0.5, verbose=False):\n",
        "        \"\"\"\n",
        "        Train this neural network using stochastic gradient descent/momentum based gradient descent.\n",
        "\n",
        "        Inputs:\n",
        "        - X: A numpy array of shape (N, D) giving training data.\n",
        "        - y: A numpy array f shape (N,) giving training labels; y[i] = c means that X[i] has label c, where 0 <= c < C.\n",
        "        - X_val: A numpy array of shape (N_val, D) giving validation data.\n",
        "        - y_val: A numpy array of shape (N_val,) giving validation labels.\n",
        "        - learning_rate: Scalar giving learning rate for optimization.\n",
        "        - num_iters: Number of steps to take when optimizing.\n",
        "        - batch_size: Number of training examples to use per step.\n",
        "        - verbose: boolean; if true print progress during optimization.\n",
        "        \"\"\"\n",
        "        num_train = X.shape[0]\n",
        "        iterations_per_epoch = max(int(num_train / batch_size), 1)\n",
        "\n",
        "        # Use SGD to optimize the parameters in self.model\n",
        "        v_W2, v_b2 = 0.0, 0.0\n",
        "        v_W1, v_b1 = 0.0, 0.0\n",
        "        loss_history = []\n",
        "        train_acc_history = []\n",
        "        val_acc_history = []\n",
        "\n",
        "        for it in range(1, num_epochs * iterations_per_epoch + 1):\n",
        "            X_batch = None\n",
        "            y_batch = None\n",
        "\n",
        "            # Create a random minibatch of training data and labels. batch_size = 1 for sgd, 64 for mini-batch mu-based gd\n",
        "            sample_index = np.random.choice(num_train, batch_size, replace=True)\n",
        "            X_batch = X[sample_index, :]\n",
        "            y_batch = y[sample_index]\n",
        "\n",
        "            # Compute loss and gradients using the current minibatch\n",
        "            loss, grads = self.loss(X_batch, y=y_batch, reg=reg)\n",
        "            loss_history.append(loss)\n",
        "\n",
        "            if optimizer == \"sgd\": # Vanilla SGD update rule\n",
        "              self.params['W2'] -= learning_rate * grads['W2']\n",
        "              self.params['b2'] -= learning_rate * grads['b2']\n",
        "              self.params['W1'] -= learning_rate * grads['W1']\n",
        "              self.params['b1'] -= learning_rate * grads['b1']\n",
        "\n",
        "            elif optimizer == \"momentum\": # Momentum-based SGD update rule\n",
        "                mu = 0.85\n",
        "                v_W2 = mu * v_W2 - learning_rate * grads['W2']\n",
        "                self.params['W2'] += v_W2\n",
        "                v_b2 = mu * v_b2 - learning_rate * grads['b2']\n",
        "                self.params['b2'] += v_b2\n",
        "                v_W1 = mu * v_W1 - learning_rate * grads['W1']\n",
        "                self.params['W1'] += v_W1\n",
        "                v_b1 = mu * v_b1 - learning_rate * grads['b1']\n",
        "                self.params['b1'] += v_b1\n",
        "\n",
        "            if verbose and it % iterations_per_epoch == 0:\n",
        "            # Every epoch, check train and val accuracy\n",
        "                epoch = it // iterations_per_epoch\n",
        "                train_acc = (self.predict(X_batch) == y_batch).mean()\n",
        "                val_acc = (self.predict(X_val) == y_val).mean()\n",
        "                train_acc_history.append(train_acc)\n",
        "                val_acc_history.append(val_acc)\n",
        "                print(f\"Epoch {epoch} / {num_epochs}: loss {loss}, train_acc: {train_acc}, val_acc: {val_acc}\")\n",
        "\n",
        "        return {\n",
        "            'loss_history': loss_history,\n",
        "            'train_acc_history': train_acc_history,\n",
        "            'val_acc_history': val_acc_history,\n",
        "        }\n",
        "\n",
        "    def predict(self, X):\n",
        "        \"\"\"\n",
        "        Use the trained weights of this one-hidden-layer network to predict labels for\n",
        "        data points. For each data point we predict scores for each of the C\n",
        "        classes, and assign each data point to the class with the highest score.\n",
        "\n",
        "        Inputs:\n",
        "        - X: A numpy array of shape (N, D) giving N D-dimensional data points to\n",
        "          classify.\n",
        "\n",
        "        Returns:\n",
        "        - y_pred: A numpy array of shape (N,) giving predicted labels for each of\n",
        "        the elements of X. For all i, y_pred[i] = c means that X[i] is predicted\n",
        "        to have class c, where 0 <= c < C.\n",
        "        \"\"\"\n",
        "        h1 = ReLU(np.dot(X, self.params['W1']) + self.params['b1'])\n",
        "        scores = np.dot(h1, self.params['W2']) + self.params['b2']\n",
        "        y_pred = np.argmax(scores, axis=1)\n",
        "\n",
        "        return y_pred"
      ],
      "metadata": {
        "id": "diytYm5AgcMV"
      },
      "execution_count": null,
      "outputs": []
    },
    {
      "cell_type": "markdown",
      "source": [
        "d) Use the standard train/test split of fashionMnist. Keep 10% of the training data aside as validation data for this hyperparameter search. Here are some suggestions for different values to try for hyperparameters.\n",
        "\n",
        "*number of epochs: 10*\n",
        "\n",
        "*weight decay (L2 regularisation): 0.5*\n",
        "\n",
        "*batch size: 64*\n",
        "\n",
        "*learning rate: 1e-4*\n",
        "\n",
        "*activation functions: ReLU*\n",
        "\n",
        "*size of hidden layer: 64, 128*\n",
        "\n",
        "*optimizer: sgd, momentum*\n",
        "\n",
        "*weight initialisation: random, Xavier*"
      ],
      "metadata": {
        "id": "aiHIhaASwRHM"
      }
    },
    {
      "cell_type": "code",
      "source": [
        "n_val = 1000\n",
        "n_train = train_labels.shape[0] - n_val # 59000\n",
        "n_test = test_labels.shape[0] # 10000\n",
        "\n",
        "mask = list(range(n_train, n_train + n_val))\n",
        "X_val = train_features[mask]           # (1000, 28, 28)\n",
        "y_val = train_labels[mask]             # (1000,)\n",
        "\n",
        "mask = list(range(n_train))\n",
        "X_train = train_features[mask]         # (59000, 28, 28)\n",
        "y_train = train_labels[mask]           # (59000,)\n",
        "\n",
        "mask = list(range(n_test))\n",
        "X_test = test_features[mask]           # (10000, 28, 28)\n",
        "y_test = test_labels[mask]           # (10000,)\n",
        "\n",
        "# Reshape data to rows\n",
        "X_train = X_train.reshape(n_train, -1) # (59000, 784)\n",
        "X_val = X_val.reshape(n_val, -1)       # (1000, 784)\n",
        "X_test = X_test.reshape(n_test, -1)    # (10000, 784)"
      ],
      "metadata": {
        "id": "yDLQ95DGwlO3"
      },
      "execution_count": null,
      "outputs": []
    },
    {
      "cell_type": "code",
      "source": [
        "from tensorflow.keras.datasets import fashion_mnist\n",
        "\n",
        "# Load FashionMNIST dataset\n",
        "(X_train, y_train), (X_test, y_test) = fashion_mnist.load_data()\n",
        "\n",
        "# Normalize pixel values to [0, 1]\n",
        "X_train, X_test = X_train / 255.0, X_test / 255.0\n",
        "\n",
        "# Determine the size of validation set (10% of training)\n",
        "val_size = int(0.1 * X_train.shape[0])\n",
        "\n",
        "# Shuffle indices for random selection\n",
        "indices = np.arange(X_train.shape[0])\n",
        "np.random.shuffle(indices)\n",
        "\n",
        "# Split the data\n",
        "X_val, y_val = X_train[indices[:val_size]], y_train[indices[:val_size]]\n",
        "X_train, y_train = X_train[indices[val_size:]], y_train[indices[val_size:]]"
      ],
      "metadata": {
        "colab": {
          "base_uri": "https://localhost:8080/"
        },
        "id": "CQ8jfNgzaUcZ",
        "outputId": "cc80984c-2320-479e-873b-abd6e82b11e3"
      },
      "execution_count": null,
      "outputs": [
        {
          "output_type": "stream",
          "name": "stdout",
          "text": [
            "Downloading data from https://storage.googleapis.com/tensorflow/tf-keras-datasets/train-labels-idx1-ubyte.gz\n",
            "\u001b[1m29515/29515\u001b[0m \u001b[32m━━━━━━━━━━━━━━━━━━━━\u001b[0m\u001b[37m\u001b[0m \u001b[1m0s\u001b[0m 0us/step\n",
            "Downloading data from https://storage.googleapis.com/tensorflow/tf-keras-datasets/train-images-idx3-ubyte.gz\n",
            "\u001b[1m26421880/26421880\u001b[0m \u001b[32m━━━━━━━━━━━━━━━━━━━━\u001b[0m\u001b[37m\u001b[0m \u001b[1m1s\u001b[0m 0us/step\n",
            "Downloading data from https://storage.googleapis.com/tensorflow/tf-keras-datasets/t10k-labels-idx1-ubyte.gz\n",
            "\u001b[1m5148/5148\u001b[0m \u001b[32m━━━━━━━━━━━━━━━━━━━━\u001b[0m\u001b[37m\u001b[0m \u001b[1m0s\u001b[0m 0us/step\n",
            "Downloading data from https://storage.googleapis.com/tensorflow/tf-keras-datasets/t10k-images-idx3-ubyte.gz\n",
            "\u001b[1m4422102/4422102\u001b[0m \u001b[32m━━━━━━━━━━━━━━━━━━━━\u001b[0m\u001b[37m\u001b[0m \u001b[1m1s\u001b[0m 0us/step\n"
          ]
        }
      ]
    },
    {
      "cell_type": "code",
      "source": [
        "X_train.shape"
      ],
      "metadata": {
        "colab": {
          "base_uri": "https://localhost:8080/"
        },
        "id": "v1V1RYR6aihZ",
        "outputId": "1980131a-b578-4aec-f881-a335310e367c"
      },
      "execution_count": null,
      "outputs": [
        {
          "output_type": "execute_result",
          "data": {
            "text/plain": [
              "(54000, 28, 28)"
            ]
          },
          "metadata": {},
          "execution_count": 90
        }
      ]
    },
    {
      "cell_type": "markdown",
      "source": [
        "e) Based on this, report configurations that are giving the top 3 accuracies. For the best model obtained, report the accuracy on the test set of fashionMnist and report the confusion matrix."
      ],
      "metadata": {
        "id": "7Zdz_wJ9_Jww"
      }
    },
    {
      "cell_type": "code",
      "source": [
        "input_size = X_train.shape[1]          # 784\n",
        "output_size = 10\n",
        "hidden_sizes = [64, 128]\n",
        "optimizers = [\"sgd\", \"momentum\"]\n",
        "weight_inits = [\"random\", \"xavier\"]\n",
        "\n",
        "best_val_acc = 0\n",
        "best_hyperparams = None\n",
        "results = []\n",
        "\n",
        "# Loop over all hyperparameter combinations\n",
        "for hidden_size in hidden_sizes:\n",
        "  for optimizer in optimizers:\n",
        "    for weight_init in weight_inits:\n",
        "        print(f\"Training with hidden_size={hidden_size}, optimizer={optimizer}, weight_init={weight_init}\")\n",
        "\n",
        "        # Initialize the model with current hyperparameters\n",
        "        nn = OneHiddenLayerNet(input_size, hidden_size, output_size, weight_init)\n",
        "\n",
        "        # Train the model\n",
        "        stats = nn.train(X_train, y_train, X_val, y_val, learning_rate=1e-4, num_epochs=10, batch_size=64, optimizer=optimizer, reg=1e-4, verbose=False)\n",
        "\n",
        "        # Predict on the validation set\n",
        "        val_acc = (nn.predict(X_val) == y_val).mean()\n",
        "\n",
        "        # Store the results\n",
        "        results.append({\n",
        "                    \"hidden_size\": hidden_size,\n",
        "                    \"optimizer\": optimizer,\n",
        "                    \"weight_init\": weight_init,\n",
        "                    \"val_acc\": val_acc\n",
        "                })\n",
        "\n",
        "top_3_results = heapq.nlargest(3, results, key=lambda x: x[\"val_acc\"])\n",
        "\n",
        "# Print the top 3 hyperparameter combinations\n",
        "print(\"\\nTop 3 Hyperparameter Combinations:\")\n",
        "for i, res in enumerate(top_3_results, 1):\n",
        "    print(f\"Rank {i}: {res}\")"
      ],
      "metadata": {
        "colab": {
          "base_uri": "https://localhost:8080/"
        },
        "id": "-6RlAKZO5Quf",
        "outputId": "2cd01929-faae-45d7-a06b-dae06008425f"
      },
      "execution_count": null,
      "outputs": [
        {
          "output_type": "stream",
          "name": "stdout",
          "text": [
            "Training with hidden_size=64, optimizer=sgd, weight_init=random\n",
            "Training with hidden_size=64, optimizer=sgd, weight_init=xavier\n",
            "Training with hidden_size=64, optimizer=momentum, weight_init=random\n",
            "Training with hidden_size=64, optimizer=momentum, weight_init=xavier\n",
            "Training with hidden_size=128, optimizer=sgd, weight_init=random\n",
            "Training with hidden_size=128, optimizer=sgd, weight_init=xavier\n",
            "Training with hidden_size=128, optimizer=momentum, weight_init=random\n",
            "Training with hidden_size=128, optimizer=momentum, weight_init=xavier\n",
            "\n",
            "Top 3 Hyperparameter Combinations:\n",
            "Rank 1: {'hidden_size': 128, 'optimizer': 'momentum', 'weight_init': 'xavier', 'val_acc': 0.715}\n",
            "Rank 2: {'hidden_size': 64, 'optimizer': 'momentum', 'weight_init': 'xavier', 'val_acc': 0.693}\n",
            "Rank 3: {'hidden_size': 128, 'optimizer': 'momentum', 'weight_init': 'random', 'val_acc': 0.638}\n"
          ]
        }
      ]
    },
    {
      "cell_type": "code",
      "source": [
        "# Initialize the model with best hyperparameters\n",
        "nn = OneHiddenLayerNet(input_size, 128, output_size, weight_init=\"xavier\")\n",
        "\n",
        "# Train the model\n",
        "stats = nn.train(X_train, y_train, X_val, y_val, learning_rate=1e-4, num_epochs=10, batch_size=64, optimizer=\"momentum\", reg=1e-4, verbose=True)\n",
        "\n",
        "# Predict on the test set\n",
        "y_pred = nn.predict(X_test)\n",
        "test_acc = (y_pred == y_test).mean()"
      ],
      "metadata": {
        "colab": {
          "base_uri": "https://localhost:8080/"
        },
        "id": "KPA_3oRD6OA4",
        "outputId": "36129bab-b544-4a53-ead0-32b544266aa5"
      },
      "execution_count": null,
      "outputs": [
        {
          "output_type": "stream",
          "name": "stdout",
          "text": [
            "Epoch 1 / 10: loss 2.0728635921718754, train_acc: 0.5, val_acc: 0.577\n",
            "Epoch 2 / 10: loss 1.7907184917301113, train_acc: 0.59375, val_acc: 0.615\n",
            "Epoch 3 / 10: loss 1.477504648176362, train_acc: 0.703125, val_acc: 0.644\n",
            "Epoch 4 / 10: loss 1.35821648187728, train_acc: 0.671875, val_acc: 0.649\n",
            "Epoch 5 / 10: loss 1.2701535329503608, train_acc: 0.609375, val_acc: 0.655\n",
            "Epoch 6 / 10: loss 1.1009803598325294, train_acc: 0.6875, val_acc: 0.669\n",
            "Epoch 7 / 10: loss 0.9681318183911539, train_acc: 0.703125, val_acc: 0.67\n",
            "Epoch 8 / 10: loss 1.0070074841461618, train_acc: 0.65625, val_acc: 0.684\n",
            "Epoch 9 / 10: loss 0.7827350816330564, train_acc: 0.734375, val_acc: 0.685\n",
            "Epoch 10 / 10: loss 0.9266147900252247, train_acc: 0.640625, val_acc: 0.695\n"
          ]
        }
      ]
    },
    {
      "cell_type": "code",
      "source": [
        "from sklearn.metrics import confusion_matrix\n",
        "import seaborn as sns\n",
        "\n",
        "y_pred = nn.predict(X_test)\n",
        "cm = confusion_matrix(y_test, y_pred)\n",
        "plt.figure(figsize=(8, 6))\n",
        "sns.heatmap(cm, annot=True, cmap='Blues', fmt='d')\n",
        "plt.title(\"Confusion Matrix on Fashion-MNIST Test Set\")\n",
        "plt.xlabel(\"Predicted Labels\")\n",
        "plt.ylabel(\"True Labels\")\n",
        "plt.show()"
      ],
      "metadata": {
        "colab": {
          "base_uri": "https://localhost:8080/",
          "height": 564
        },
        "id": "ci3txEuTwa_e",
        "outputId": "4919e56f-58be-4b0c-892a-9e9d958792fc"
      },
      "execution_count": null,
      "outputs": [
        {
          "output_type": "display_data",
          "data": {
            "text/plain": [
              "<Figure size 800x600 with 2 Axes>"
            ],
            "image/png": "[encoded data removed]"
          },
          "metadata": {}
        }
      ]
    },
    {
      "cell_type": "markdown",
      "source": [
        "## 2) Consider the following function: $$ f(x) = \\frac{1 + \\tanh((wx + b)/2)}{2}. $$ Here, $x$ is the input, and $w, b$ are parameters. Also, we are given the definition of the hyperbolic tangent function: $$ \\tanh(z) = \\frac{e^z - e^{-z}}{e^z + e^{-z}}. $$ The loss function is defined as: $$ L((x,y)) = \\frac{(y - f(x))^2}{2}. $$ Find the gradients: $$ \\frac{\\partial L}{\\partial w} \\quad \\text{and} \\quad \\frac{\\partial L}{\\partial b}. $$\n"
      ],
      "metadata": {
        "id": "AUn5RljDtnaC"
      }
    },
    {
      "cell_type": "markdown",
      "source": [
        "Using the chain rule:  \n",
        "\n",
        "$$ \\frac{\\partial L}{\\partial f} = \\frac{\\partial}{\\partial f} \\left( \\frac{(y - f(x))^2}{2} \\right) $$\n",
        "\n",
        "Applying differentiation:  \n",
        "\n",
        "$$ \\frac{\\partial L}{\\partial f} = -(y - f(x)) $$  \n",
        "\n",
        "Since  \n",
        "\n",
        "$$ f(x) = \\frac{1 + \\tanh((wx + b)/2)}{2}, $$  \n",
        "\n",
        "differentiating with respect to $ w $:  \n",
        "\n",
        "$$ \\frac{\\partial f}{\\partial w} = \\frac{1}{2} \\cdot \\left( 1 - \\tanh^2((wx + b)/2) \\right) \\cdot \\frac{x}{2} $$  \n",
        "\n",
        "Thus,  \n",
        "\n",
        "$$ \\frac{\\partial f}{\\partial w} = \\frac{x}{4} \\left( 1 - \\tanh^2((wx + b)/2) \\right) $$  \n",
        "\n",
        "Similarly, differentiating with respect to $ b $:  \n",
        "\n",
        "$$ \\frac{\\partial f}{\\partial b} = \\frac{1}{2} \\cdot \\left( 1 - \\tanh^2((wx + b)/2) \\right) \\cdot \\frac{1}{2} $$  \n",
        "\n",
        "So,  \n",
        "\n",
        "$$ \\frac{\\partial f}{\\partial b} = \\frac{1}{4} \\left( 1 - \\tanh^2((wx + b)/2) \\right) $$  \n",
        "\n",
        "Using the chain rule:  \n",
        "\n",
        "$$ \\frac{\\partial L}{\\partial w} = \\frac{\\partial L}{\\partial f} \\cdot \\frac{\\partial f}{\\partial w} $$  \n",
        "\n",
        "Substituting values:  \n",
        "\n",
        "$$ \\frac{\\partial L}{\\partial w} = -(y - f(x)) \\cdot \\frac{x}{4} \\left( 1 - \\tanh^2((wx + b)/2) \\right) $$  \n",
        "\n",
        "Similarly,  \n",
        "\n",
        "$$ \\frac{\\partial L}{\\partial b} = \\frac{\\partial L}{\\partial f} \\cdot \\frac{\\partial f}{\\partial b} $$  \n",
        "\n",
        "Substituting values:  \n",
        "\n",
        "$$ \\frac{\\partial L}{\\partial b} = -(y - f(x)) \\cdot \\frac{1}{4} \\left( 1 - \\tanh^2((wx + b)/2) \\right) $$  \n",
        "\n",
        "Final Answer  \n",
        "\n",
        "$$ \\frac{\\partial L}{\\partial w} = -(y - f(x)) \\cdot \\frac{x}{4} \\left( 1 - \\tanh^2((wx + b)/2) \\right) $$  \n",
        "\n",
        "$$ \\frac{\\partial L}{\\partial b} = -(y - f(x)) \\cdot \\frac{1}{4} \\left( 1 - \\tanh^2((wx + b)/2) \\right) $$  \n"
      ],
      "metadata": {
        "id": "CJB2QvrQrdIz"
      }
    },
    {
      "cell_type": "markdown",
      "source": [
        "## 3. (Refer to the book “Understanding Deep Learning” https://udlbook.github.io/udlbook/) for the chapter on convolutions. A network consists of three 1D convolutional layers. At each layer, a zero-padded convolution with kernel size seven, stride one, is applied. What size is the receptive field of hidden units in the third layer?\n"
      ],
      "metadata": {
        "id": "eCdvpzaNd0CY"
      }
    },
    {
      "cell_type": "markdown",
      "source": [
        "The receptive field of a neuron in a neural network is the number of the original input nodes that feed into it. Consider a CNN where each convolutional layer has kernel size three. The neurons in the first layer take a weighted sum of the three closest inputs, so have receptive fields of size three. The units in the second layer take a weighted sum of the three closest positions in the first layer, which are themselves weighted sums of three inputs. Hence, the hidden units in the second layer have a receptive field of size five (3 + 3-1 or k + k-1).\n",
        "\n",
        "Therefore, for a network with 3 1D convolutional layers, one neuron in the 3<sup>rd</sup> layer sees 7 neurons in the 2<sup>nd</sup> layer. One neuron in the 2<sup>nd</sup> layer sees 7 neurons in the 1<sup>st</sup> layer. There are 6 other neurons in the 2<sup>nd</sup> layer that see 6 unique neurons in the 1<sup>st</sup> layer. So one neuron in the 3<sup>rd</sup> layer sees 7 + 7-1 = 13 neurons in the 1<sup>st</sup> layer.\n",
        "\n",
        "Now one neuron in the 1<sup>st</sup> layer sees 7 neurons in the input layer. There are 12 other neurons apart from it in the 1<sup>st</sup> layer connected to the 3<sup>rd</sup> layer. These 12 neurons are connected to 12 unique input nodes in the input layer (due to a stride of 1). So one neuron in 3<sup>rd</sup> layer sees 7 + 12 = 19 neurons in the input layer.\n",
        "\n",
        "Zero padding doesn't affect receptive field because it is not part of the input.\n",
        "\n",
        "The size of the receptive field of hidden units in the third layer is **19**.\n"
      ],
      "metadata": {
        "id": "cJPB2kVnd3qU"
      }
    },
    {
      "cell_type": "markdown",
      "source": [
        "## 4. Write out the equation for a 1D convolution with kernel size of seven, a dilation rate of three, and a stride of three."
      ],
      "metadata": {
        "id": "AhrYiS_8j2Cn"
      }
    },
    {
      "cell_type": "markdown",
      "source": [
        "This is 1D convolution with a kernel size of three, stride of one,\n",
        "and dilation one:\n",
        "$z_i = \\omega_1 x_{i-1} + \\omega_2 x_i + \\omega_3 x_{i+1}$"
      ],
      "metadata": {
        "id": "HsV1LnSTkDpt"
      }
    },
    {
      "cell_type": "markdown",
      "source": [
        "For kernel size of seven, a dilation rate of three, and a stride of three, $z_i = \\omega_0 x_{i-9} + \\omega_1 x_{i-6} + \\omega_2 x_{i-3} + \\omega_3 x_i + \\omega_4 x_{i+3} + \\omega_5 x_{i+6} + \\omega_6 x_{i+9}$\n"
      ],
      "metadata": {
        "id": "XtAIV9mjm-Nb"
      }
    },
    {
      "cell_type": "markdown",
      "source": [
        "With a stride of three, we evaluate the kernel skipping 2 positions, so the first output z1 is computed from a weighted sum centered at x1, and the second output z2 is computed from a weighted sum centered at x4 and so on."
      ],
      "metadata": {
        "id": "IkEQssmUqwIA"
      }
    }
  ]
}